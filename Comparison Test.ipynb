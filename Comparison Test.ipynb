{
 "metadata": {
  "name": ""
 },
 "nbformat": 3,
 "nbformat_minor": 0,
 "worksheets": [
  {
   "cells": [
    {
     "cell_type": "code",
     "collapsed": false,
     "input": [
      "import sally\n",
      "reload(sally)"
     ],
     "language": "python",
     "metadata": {},
     "outputs": [
      {
       "metadata": {},
       "output_type": "pyout",
       "prompt_number": 1,
       "text": [
        "<module 'sally' from 'sally.pyc'>"
       ]
      }
     ],
     "prompt_number": 1
    },
    {
     "cell_type": "code",
     "collapsed": false,
     "input": [
      "import numpy as np\n",
      "import matplotlib.pyplot as plt\n",
      "import matplotlib.colors as plc\n",
      "import pandas as pds\n",
      "%matplotlib inline"
     ],
     "language": "python",
     "metadata": {},
     "outputs": [],
     "prompt_number": 2
    },
    {
     "cell_type": "markdown",
     "metadata": {},
     "source": [
      "Here I'm just opening two of the files that Sally had given me. These seemed like they must be from two very similar samples, though I'm not sure what the difference is. They are nice because they have lots of values and matches.\n",
      "\n",
      "I'm sorry Sally. You're function works great for the most part, but for this application, it would have required substantial reworking. I decided it might be better to rewrite the function from scratch. This will probably fix a lot of problems in the future. The reasons are subtle, but I can explain later.\n",
      "\n",
      "The createDF function looks like the following:\n",
      "\n",
      "    def createDF(file_name, total_cols=30, index_col='Formula',\n",
      "                 formula_col='Formula', ratiolist=[('O', 'C'), ('H', 'C')], \n",
      "                 skiprows=2)\n",
      "                 \n",
      "The index_col can be changed at will. The formula column is probably best left alone. But if there is no formula calculated then you can change this to `None` to stop it from generating ratios. The ratiolist is simply a tuple of atom labels that you'd like to use for calculating ratios. Skiprows sets the number of rows in the beginning that you'd like to skip."
     ]
    },
    {
     "cell_type": "code",
     "collapsed": false,
     "input": [
      "oil12 = sally.createDF('OilCell300600.csv', index_col='Label', total_cols=30)\n",
      "oil36 = sally.createDF('Oil300600.csv', index_col='Label', total_cols=30)"
     ],
     "language": "python",
     "metadata": {},
     "outputs": [],
     "prompt_number": 3
    },
    {
     "cell_type": "markdown",
     "metadata": {},
     "source": [
      "Here's the new DataFrame comparison (df_comp) function in action. The call for this function is as follows:\n",
      "\n",
      "    def df_comp(df1, df2, comps=['Mass','RT'], tols=[0.05, 0.1], \n",
      "            extra_cols=['Vol %', 'HC ratio', 'OC ratio'])\n",
      "            \n",
      "This is going to compare two DataFrames, generated with `createDF` on two different csv files. It will be important to note that the first DataFrame will be called 'df1' and the second 'df2' in the output from the function. `comps` are the columns that are going to be used for comparisons, and `tols` are the +/- tolerances that will generate a match for the respective comps columns. It is important to note that the comparison columns must be numbers for this to work. (Also, they should probably exist for all compounds, i.e. not NaN.) \n",
      "\n",
      "The output is a new DataFrame. For every match, there alway be a column for indecies (df1 and df2) and comparison column values, in this case masses and retention times. You can extract extra values from the original DataFrames by passing in the column names as extra_cols in the function call. The default for this value is shown above."
     ]
    },
    {
     "cell_type": "code",
     "collapsed": false,
     "input": [
      "data2 = sally.df_comp(oil12, oil36, comps=['Mass','RT'], tols=[0.05, 0.1])"
     ],
     "language": "python",
     "metadata": {},
     "outputs": [],
     "prompt_number": 4
    },
    {
     "cell_type": "markdown",
     "metadata": {},
     "source": [
      "In this case, you can see that there are about 160 matches between these two runs. Several of these do not have computed formulas. "
     ]
    },
    {
     "cell_type": "code",
     "collapsed": false,
     "input": [
      "data2"
     ],
     "language": "python",
     "metadata": {},
     "outputs": [
      {
       "html": [
        "<pre>\n",
        "&lt;class 'pandas.core.frame.DataFrame'&gt;\n",
        "Index: 160 entries, Match 96 to Match 104\n",
        "Data columns (total 12 columns):\n",
        "df1             160  non-null values\n",
        "Mass df1        160  non-null values\n",
        "RT df1          160  non-null values\n",
        "Vol % df1       160  non-null values\n",
        "HC ratio df1    158  non-null values\n",
        "OC ratio df1    149  non-null values\n",
        "df2             160  non-null values\n",
        "Mass df2        160  non-null values\n",
        "RT df2          160  non-null values\n",
        "Vol % df2       160  non-null values\n",
        "HC ratio df2    158  non-null values\n",
        "OC ratio df2    148  non-null values\n",
        "dtypes: float64(10), object(2)\n",
        "</pre>"
       ],
       "metadata": {},
       "output_type": "pyout",
       "prompt_number": 5,
       "text": [
        "<class 'pandas.core.frame.DataFrame'>\n",
        "Index: 160 entries, Match 96 to Match 104\n",
        "Data columns (total 12 columns):\n",
        "df1             160  non-null values\n",
        "Mass df1        160  non-null values\n",
        "RT df1          160  non-null values\n",
        "Vol % df1       160  non-null values\n",
        "HC ratio df1    158  non-null values\n",
        "OC ratio df1    149  non-null values\n",
        "df2             160  non-null values\n",
        "Mass df2        160  non-null values\n",
        "RT df2          160  non-null values\n",
        "Vol % df2       160  non-null values\n",
        "HC ratio df2    158  non-null values\n",
        "OC ratio df2    148  non-null values\n",
        "dtypes: float64(10), object(2)"
       ]
      }
     ],
     "prompt_number": 5
    },
    {
     "cell_type": "markdown",
     "metadata": {},
     "source": [
      "Here we are just printing the first 10 values, so you can see what they look like. The matches are not ordered sequentially, but that shouldn't matter in the long run."
     ]
    },
    {
     "cell_type": "code",
     "collapsed": false,
     "input": [
      "data2[:10]"
     ],
     "language": "python",
     "metadata": {},
     "outputs": [
      {
       "html": [
        "<div style=\"max-height:1000px;max-width:1500px;overflow:auto;\">\n",
        "<table border=\"1\" class=\"dataframe\">\n",
        "  <thead>\n",
        "    <tr style=\"text-align: right;\">\n",
        "      <th></th>\n",
        "      <th>df1</th>\n",
        "      <th>Mass df1</th>\n",
        "      <th>RT df1</th>\n",
        "      <th>Vol % df1</th>\n",
        "      <th>HC ratio df1</th>\n",
        "      <th>OC ratio df1</th>\n",
        "      <th>df2</th>\n",
        "      <th>Mass df2</th>\n",
        "      <th>RT df2</th>\n",
        "      <th>Vol % df2</th>\n",
        "      <th>HC ratio df2</th>\n",
        "      <th>OC ratio df2</th>\n",
        "    </tr>\n",
        "  </thead>\n",
        "  <tbody>\n",
        "    <tr>\n",
        "      <th>Match 96</th>\n",
        "      <td>     Cpd 114: C9 H14 O S2</td>\n",
        "      <td> 202.04688</td>\n",
        "      <td>  6.968</td>\n",
        "      <td> 0.59</td>\n",
        "      <td> 1.555556</td>\n",
        "      <td> 0.111111</td>\n",
        "      <td>     Cpd 114: C9 H14 O S2</td>\n",
        "      <td> 202.04688</td>\n",
        "      <td>  6.984</td>\n",
        "      <td> 0.61</td>\n",
        "      <td> 1.555556</td>\n",
        "      <td> 0.111111</td>\n",
        "    </tr>\n",
        "    <tr>\n",
        "      <th>Match 97</th>\n",
        "      <td>        Cpd 115: C6 H8 O5</td>\n",
        "      <td> 160.03633</td>\n",
        "      <td>  6.970</td>\n",
        "      <td> 0.24</td>\n",
        "      <td> 1.333333</td>\n",
        "      <td> 0.833333</td>\n",
        "      <td>        Cpd 115: C6 H8 O5</td>\n",
        "      <td> 160.03630</td>\n",
        "      <td>  6.985</td>\n",
        "      <td> 0.24</td>\n",
        "      <td> 1.333333</td>\n",
        "      <td> 0.833333</td>\n",
        "    </tr>\n",
        "    <tr>\n",
        "      <th>Match 94</th>\n",
        "      <td>        Cpd 112: C4 H6 O3</td>\n",
        "      <td> 102.03105</td>\n",
        "      <td>  6.952</td>\n",
        "      <td> 0.35</td>\n",
        "      <td> 1.500000</td>\n",
        "      <td> 0.750000</td>\n",
        "      <td>        Cpd 118: C4 H6 O3</td>\n",
        "      <td> 102.03106</td>\n",
        "      <td>  7.050</td>\n",
        "      <td> 0.79</td>\n",
        "      <td> 1.500000</td>\n",
        "      <td> 0.750000</td>\n",
        "    </tr>\n",
        "    <tr>\n",
        "      <th>Match 95</th>\n",
        "      <td>    Cpd 113: C8 H14 N6 S2</td>\n",
        "      <td> 258.07331</td>\n",
        "      <td>  6.963</td>\n",
        "      <td> 0.45</td>\n",
        "      <td> 1.750000</td>\n",
        "      <td>      NaN</td>\n",
        "      <td>    Cpd 113: C8 H14 N6 S2</td>\n",
        "      <td> 258.07332</td>\n",
        "      <td>  6.971</td>\n",
        "      <td> 0.56</td>\n",
        "      <td> 1.750000</td>\n",
        "      <td>      NaN</td>\n",
        "    </tr>\n",
        "    <tr>\n",
        "      <th>Match 92</th>\n",
        "      <td> Cpd 109: C3 H11 Cl N4 O3</td>\n",
        "      <td> 186.05194</td>\n",
        "      <td>  6.932</td>\n",
        "      <td> 0.24</td>\n",
        "      <td> 3.666667</td>\n",
        "      <td> 1.000000</td>\n",
        "      <td> Cpd 109: C3 H11 Cl N4 O3</td>\n",
        "      <td> 186.05201</td>\n",
        "      <td>  6.942</td>\n",
        "      <td> 0.31</td>\n",
        "      <td> 3.666667</td>\n",
        "      <td> 1.000000</td>\n",
        "    </tr>\n",
        "    <tr>\n",
        "      <th>Match 93</th>\n",
        "      <td>        Cpd 111: C5 H6 O3</td>\n",
        "      <td> 114.03102</td>\n",
        "      <td>  6.948</td>\n",
        "      <td> 0.20</td>\n",
        "      <td> 1.200000</td>\n",
        "      <td> 0.600000</td>\n",
        "      <td>        Cpd 111: C5 H6 O3</td>\n",
        "      <td> 114.03083</td>\n",
        "      <td>  6.963</td>\n",
        "      <td> 0.23</td>\n",
        "      <td> 1.200000</td>\n",
        "      <td> 0.600000</td>\n",
        "    </tr>\n",
        "    <tr>\n",
        "      <th>Match 90</th>\n",
        "      <td>       Cpd 107: C7 H10 O4</td>\n",
        "      <td> 158.05697</td>\n",
        "      <td>  6.877</td>\n",
        "      <td> 0.40</td>\n",
        "      <td> 1.428571</td>\n",
        "      <td> 0.571429</td>\n",
        "      <td>       Cpd 108: C7 H10 O4</td>\n",
        "      <td> 158.05696</td>\n",
        "      <td>  6.894</td>\n",
        "      <td> 0.39</td>\n",
        "      <td> 1.428571</td>\n",
        "      <td> 0.571429</td>\n",
        "    </tr>\n",
        "    <tr>\n",
        "      <th>Match 91</th>\n",
        "      <td>      Cpd 108: C14 H18 O9</td>\n",
        "      <td> 330.09426</td>\n",
        "      <td>  6.912</td>\n",
        "      <td> 0.19</td>\n",
        "      <td> 1.285714</td>\n",
        "      <td> 0.642857</td>\n",
        "      <td>  Cpd 110: C11 H10 N10 O3</td>\n",
        "      <td> 330.09404</td>\n",
        "      <td>  6.953</td>\n",
        "      <td> 0.24</td>\n",
        "      <td> 0.909091</td>\n",
        "      <td> 0.272727</td>\n",
        "    </tr>\n",
        "    <tr>\n",
        "      <th>Match 160</th>\n",
        "      <td>   Cpd 225: C15 H26 N2 O5</td>\n",
        "      <td> 314.18267</td>\n",
        "      <td> 12.174</td>\n",
        "      <td> 0.68</td>\n",
        "      <td> 1.733333</td>\n",
        "      <td> 0.333333</td>\n",
        "      <td>   Cpd 201: C15 H26 N2 O5</td>\n",
        "      <td> 314.18496</td>\n",
        "      <td> 12.173</td>\n",
        "      <td> 0.69</td>\n",
        "      <td> 1.733333</td>\n",
        "      <td> 0.333333</td>\n",
        "    </tr>\n",
        "    <tr>\n",
        "      <th>Match 127</th>\n",
        "      <td>      Cpd 152: C10 H12 O4</td>\n",
        "      <td> 196.07272</td>\n",
        "      <td>  7.605</td>\n",
        "      <td> 0.26</td>\n",
        "      <td> 1.200000</td>\n",
        "      <td> 0.400000</td>\n",
        "      <td>      Cpd 151: C10 H12 O4</td>\n",
        "      <td> 196.07255</td>\n",
        "      <td>  7.616</td>\n",
        "      <td> 0.25</td>\n",
        "      <td> 1.200000</td>\n",
        "      <td> 0.400000</td>\n",
        "    </tr>\n",
        "  </tbody>\n",
        "</table>\n",
        "</div>"
       ],
       "metadata": {},
       "output_type": "pyout",
       "prompt_number": 6,
       "text": [
        "                                df1   Mass df1  RT df1  Vol % df1  \\\n",
        "Match 96       Cpd 114: C9 H14 O S2  202.04688   6.968       0.59   \n",
        "Match 97          Cpd 115: C6 H8 O5  160.03633   6.970       0.24   \n",
        "Match 94          Cpd 112: C4 H6 O3  102.03105   6.952       0.35   \n",
        "Match 95      Cpd 113: C8 H14 N6 S2  258.07331   6.963       0.45   \n",
        "Match 92   Cpd 109: C3 H11 Cl N4 O3  186.05194   6.932       0.24   \n",
        "Match 93          Cpd 111: C5 H6 O3  114.03102   6.948       0.20   \n",
        "Match 90         Cpd 107: C7 H10 O4  158.05697   6.877       0.40   \n",
        "Match 91        Cpd 108: C14 H18 O9  330.09426   6.912       0.19   \n",
        "Match 160    Cpd 225: C15 H26 N2 O5  314.18267  12.174       0.68   \n",
        "Match 127       Cpd 152: C10 H12 O4  196.07272   7.605       0.26   \n",
        "\n",
        "           HC ratio df1  OC ratio df1                       df2   Mass df2  \\\n",
        "Match 96       1.555556      0.111111      Cpd 114: C9 H14 O S2  202.04688   \n",
        "Match 97       1.333333      0.833333         Cpd 115: C6 H8 O5  160.03630   \n",
        "Match 94       1.500000      0.750000         Cpd 118: C4 H6 O3  102.03106   \n",
        "Match 95       1.750000           NaN     Cpd 113: C8 H14 N6 S2  258.07332   \n",
        "Match 92       3.666667      1.000000  Cpd 109: C3 H11 Cl N4 O3  186.05201   \n",
        "Match 93       1.200000      0.600000         Cpd 111: C5 H6 O3  114.03083   \n",
        "Match 90       1.428571      0.571429        Cpd 108: C7 H10 O4  158.05696   \n",
        "Match 91       1.285714      0.642857   Cpd 110: C11 H10 N10 O3  330.09404   \n",
        "Match 160      1.733333      0.333333    Cpd 201: C15 H26 N2 O5  314.18496   \n",
        "Match 127      1.200000      0.400000       Cpd 151: C10 H12 O4  196.07255   \n",
        "\n",
        "           RT df2  Vol % df2  HC ratio df2  OC ratio df2  \n",
        "Match 96    6.984       0.61      1.555556      0.111111  \n",
        "Match 97    6.985       0.24      1.333333      0.833333  \n",
        "Match 94    7.050       0.79      1.500000      0.750000  \n",
        "Match 95    6.971       0.56      1.750000           NaN  \n",
        "Match 92    6.942       0.31      3.666667      1.000000  \n",
        "Match 93    6.963       0.23      1.200000      0.600000  \n",
        "Match 90    6.894       0.39      1.428571      0.571429  \n",
        "Match 91    6.953       0.24      0.909091      0.272727  \n",
        "Match 160  12.173       0.69      1.733333      0.333333  \n",
        "Match 127   7.616       0.25      1.200000      0.400000  "
       ]
      }
     ],
     "prompt_number": 6
    },
    {
     "cell_type": "markdown",
     "metadata": {},
     "source": [
      "You can extract a single match as follows."
     ]
    },
    {
     "cell_type": "code",
     "collapsed": false,
     "input": [
      "data2.ix['Match 1']"
     ],
     "language": "python",
     "metadata": {},
     "outputs": [
      {
       "metadata": {},
       "output_type": "pyout",
       "prompt_number": 7,
       "text": [
        "df1                Cpd 2: C8 H9 N O2\n",
        "Mass df1                    151.0652\n",
        "RT df1                         1.364\n",
        "Vol % df1                       0.42\n",
        "HC ratio df1                   1.125\n",
        "OC ratio df1                    0.25\n",
        "df2             Cpd 1: C5 H13 N O2 S\n",
        "Mass df2                    151.0653\n",
        "RT df2                          1.39\n",
        "Vol % df2                       0.41\n",
        "HC ratio df2                     2.6\n",
        "OC ratio df2                     0.4\n",
        "Name: Match 1, dtype: object"
       ]
      }
     ],
     "prompt_number": 7
    },
    {
     "cell_type": "markdown",
     "metadata": {},
     "source": [
      "Or select multiple matches."
     ]
    },
    {
     "cell_type": "code",
     "collapsed": false,
     "input": [
      "data2.ix[ ['Match 1', 'Match 2', 'Match 20'] ]"
     ],
     "language": "python",
     "metadata": {},
     "outputs": [
      {
       "html": [
        "<div style=\"max-height:1000px;max-width:1500px;overflow:auto;\">\n",
        "<table border=\"1\" class=\"dataframe\">\n",
        "  <thead>\n",
        "    <tr style=\"text-align: right;\">\n",
        "      <th></th>\n",
        "      <th>df1</th>\n",
        "      <th>Mass df1</th>\n",
        "      <th>RT df1</th>\n",
        "      <th>Vol % df1</th>\n",
        "      <th>HC ratio df1</th>\n",
        "      <th>OC ratio df1</th>\n",
        "      <th>df2</th>\n",
        "      <th>Mass df2</th>\n",
        "      <th>RT df2</th>\n",
        "      <th>Vol % df2</th>\n",
        "      <th>HC ratio df2</th>\n",
        "      <th>OC ratio df2</th>\n",
        "    </tr>\n",
        "  </thead>\n",
        "  <tbody>\n",
        "    <tr>\n",
        "      <th>Match 1</th>\n",
        "      <td> Cpd 2: C8 H9 N O2</td>\n",
        "      <td> 151.06517</td>\n",
        "      <td> 1.364</td>\n",
        "      <td> 0.42</td>\n",
        "      <td> 1.125</td>\n",
        "      <td> 0.25</td>\n",
        "      <td> Cpd 1: C5 H13 N O2 S</td>\n",
        "      <td> 151.06530</td>\n",
        "      <td> 1.390</td>\n",
        "      <td> 0.41</td>\n",
        "      <td> 2.6</td>\n",
        "      <td> 0.4</td>\n",
        "    </tr>\n",
        "    <tr>\n",
        "      <th>Match 2</th>\n",
        "      <td>    Cpd 3: C5 H5 N</td>\n",
        "      <td>  79.04415</td>\n",
        "      <td> 1.438</td>\n",
        "      <td> 5.83</td>\n",
        "      <td> 1.000</td>\n",
        "      <td>  NaN</td>\n",
        "      <td>       Cpd 2: C5 H5 N</td>\n",
        "      <td>  79.04177</td>\n",
        "      <td> 1.436</td>\n",
        "      <td> 7.17</td>\n",
        "      <td> 1.0</td>\n",
        "      <td> NaN</td>\n",
        "    </tr>\n",
        "    <tr>\n",
        "      <th>Match 20</th>\n",
        "      <td>     Cpd 23: 2.725</td>\n",
        "      <td> 295.14063</td>\n",
        "      <td> 2.725</td>\n",
        "      <td> 0.16</td>\n",
        "      <td>   NaN</td>\n",
        "      <td>  NaN</td>\n",
        "      <td>        Cpd 24: 2.768</td>\n",
        "      <td> 295.13972</td>\n",
        "      <td> 2.768</td>\n",
        "      <td> 0.20</td>\n",
        "      <td> NaN</td>\n",
        "      <td> NaN</td>\n",
        "    </tr>\n",
        "  </tbody>\n",
        "</table>\n",
        "</div>"
       ],
       "metadata": {},
       "output_type": "pyout",
       "prompt_number": 8,
       "text": [
        "                        df1   Mass df1  RT df1  Vol % df1  HC ratio df1  \\\n",
        "Match 1   Cpd 2: C8 H9 N O2  151.06517   1.364       0.42         1.125   \n",
        "Match 2      Cpd 3: C5 H5 N   79.04415   1.438       5.83         1.000   \n",
        "Match 20      Cpd 23: 2.725  295.14063   2.725       0.16           NaN   \n",
        "\n",
        "          OC ratio df1                   df2   Mass df2  RT df2  Vol % df2  \\\n",
        "Match 1           0.25  Cpd 1: C5 H13 N O2 S  151.06530   1.390       0.41   \n",
        "Match 2            NaN        Cpd 2: C5 H5 N   79.04177   1.436       7.17   \n",
        "Match 20           NaN         Cpd 24: 2.768  295.13972   2.768       0.20   \n",
        "\n",
        "          HC ratio df2  OC ratio df2  \n",
        "Match 1            2.6           0.4  \n",
        "Match 2            1.0           NaN  \n",
        "Match 20           NaN           NaN  "
       ]
      }
     ],
     "prompt_number": 8
    },
    {
     "cell_type": "markdown",
     "metadata": {},
     "source": [
      "We can generate a new column of data pretty easily. As you can see, we should have a new column called 'diff', which is the percent difference between the 'Vol %' columns for the two different csv files."
     ]
    },
    {
     "cell_type": "code",
     "collapsed": false,
     "input": [
      "data2['diff'] = data2['Vol % df1']/data2['Vol % df2']"
     ],
     "language": "python",
     "metadata": {},
     "outputs": [],
     "prompt_number": 9
    },
    {
     "cell_type": "markdown",
     "metadata": {},
     "source": [
      "Finally, I'll make a kinda fancy graph of this new difference data. There's actually a lot to think about here. Because I'm only comparing the data with respect to the OC and HC ratios from the first DataFrame. This looks different if you use the ratios from the other DataFrame. Compare this with the second scatter call below."
     ]
    },
    {
     "cell_type": "code",
     "collapsed": false,
     "input": [
      "diff = np.array(data2['diff'])\n",
      "# In this case, I want the center of the colorbar to be at 1.\n",
      "zero_loc = (1.-diff.min())/(diff.max()-diff.min())\n",
      "\n",
      "# I want to change the size and opacity based on how close the values are to 1.\n",
      "# This requires getting a normalized set of data for the colors, and a normalized \n",
      "# absolute value difference array for the transparency/marker size.\n",
      "diff_norm = (diff-diff.min())/(diff.max()-diff.min())\n",
      "diff_abs = np.abs(diff - 1.)\n",
      "alpha = diff_abs/(diff_abs.max()-diff_abs.min())\n",
      "\n",
      "# Here's a custom color map. I copied this from some stuff I was doing with\n",
      "# Prof. Gorske.\n",
      "cdict = {'red':   [(0.0, 1.0, 1.0),\n",
      "                  (zero_loc, 1.0, 1.0),\n",
      "                  (1.0, 0.0, 0.0)],\n",
      "         'green': [(0.0, 0.0, 0.0),\n",
      "                  (zero_loc, 1.0, 1.0),\n",
      "                  (1.0, 0.0, 0.0)],\n",
      "         'blue':  [(0.0, 0.0, 0.0),\n",
      "                  (zero_loc, 1.0, 1.0),\n",
      "                  (1.0, 1.0, 1.0)],\n",
      "         }\n",
      "cmap = plc.LinearSegmentedColormap('cmap', cdict, N=16000)\n",
      "colors = cmap(diff_norm)\n",
      "colors[:,3] = alpha\n",
      "\n",
      "# Here's the plotting stuff, which should be fairly familiar.\n",
      "plt.figure()\n",
      "plt.scatter(data2['HC ratio df1'], data2['OC ratio df1'], c=colors, s=100*alpha, linewidth=0.0)\n",
      "\n",
      "mappable = plt.cm.ScalarMappable(cmap=cmap)\n",
      "mappable.set_array(diff)\n",
      "plt.colorbar(mappable)\n",
      "plt.show()"
     ],
     "language": "python",
     "metadata": {},
     "outputs": [
      {
       "metadata": {},
       "output_type": "display_data",
       "png": "[encoded data removed]",
       "text": [
        "<matplotlib.figure.Figure at 0xa9932e8>"
       ]
      }
     ],
     "prompt_number": 10
    },
    {
     "cell_type": "code",
     "collapsed": false,
     "input": [
      "plt.figure()\n",
      "plt.scatter(data2['HC ratio df2'], data2['OC ratio df2'], c=colors, s=100*alpha, linewidth=0.0)\n",
      "\n",
      "mappable = plt.cm.ScalarMappable(cmap=cmap)\n",
      "mappable.set_array(diff)\n",
      "plt.colorbar(mappable)\n",
      "plt.show()"
     ],
     "language": "python",
     "metadata": {},
     "outputs": [
      {
       "metadata": {},
       "output_type": "display_data",
       "png": "[encoded data removed]",
       "text": [
        "<matplotlib.figure.Figure at 0xab68dd8>"
       ]
      }
     ],
     "prompt_number": 11
    },
    {
     "cell_type": "code",
     "collapsed": false,
     "input": [],
     "language": "python",
     "metadata": {},
     "outputs": [],
     "prompt_number": 11
    }
   ],
   "metadata": {}
  }
 ]
}