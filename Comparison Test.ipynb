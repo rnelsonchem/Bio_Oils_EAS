{
 "metadata": {
  "name": ""
 },
 "nbformat": 3,
 "nbformat_minor": 0,
 "worksheets": [
  {
   "cells": [
    {
     "cell_type": "code",
     "collapsed": false,
     "input": [
      "import sally\n",
      "reload(sally)"
     ],
     "language": "python",
     "metadata": {},
     "outputs": [
      {
       "metadata": {},
       "output_type": "pyout",
       "prompt_number": 1,
       "text": [
        "<module 'sally' from 'sally.pyc'>"
       ]
      }
     ],
     "prompt_number": 1
    },
    {
     "cell_type": "code",
     "collapsed": false,
     "input": [
      "import numpy as np\n",
      "import matplotlib.pyplot as plt\n",
      "import matplotlib.colors as plc\n",
      "import pandas as pds\n",
      "%matplotlib inline"
     ],
     "language": "python",
     "metadata": {},
     "outputs": [],
     "prompt_number": 2
    },
    {
     "cell_type": "code",
     "collapsed": false,
     "input": [
      "oil12 = sally.createDF('OilCell300600.csv', index_col='Label', total_cols=30)\n",
      "oil36 = sally.createDF('Oil300600.csv', index_col='Label', total_cols=30)"
     ],
     "language": "python",
     "metadata": {},
     "outputs": [],
     "prompt_number": 3
    },
    {
     "cell_type": "code",
     "collapsed": false,
     "input": [
      "def comp(df1, df2, comps=['Mass','RT'], tols=[0.05, 0.1], extra_cols=['Vol %', 'HC ratio', 'OC ratio']):\n",
      "    matches = {}\n",
      "    count = 1\n",
      "    \n",
      "    all_cols = comps + extra_cols\n",
      "    \n",
      "    for cpd in df1.index:\n",
      "        mask = np.ones( len(df2), dtype=bool )\n",
      "        \n",
      "        for label, tol in zip(comps, tols):\n",
      "            mask *= (df2[label] > df1[label][cpd]-tol) & (df2[label] < df1[label][cpd]+tol)\n",
      "\n",
      "        for i in list(df2[mask].index):\n",
      "            df1_vals = [cpd] + list(df1[all_cols].ix[cpd])\n",
      "            df2_vals = [i] + list(df2[all_cols].ix[i])\n",
      "            matches['Match {:d}'.format(count)] = df1_vals + df2_vals\n",
      "            count += 1\n",
      "    \n",
      "    columns = ['df1'] + [i+' df1' for i in all_cols] + ['df2'] + [i+' df2' for i in all_cols]\n",
      "    df = pds.DataFrame.from_dict(matches, orient='index')\n",
      "    df.columns = columns\n",
      "    \n",
      "    return df"
     ],
     "language": "python",
     "metadata": {},
     "outputs": [],
     "prompt_number": 4
    },
    {
     "cell_type": "code",
     "collapsed": false,
     "input": [
      "data2 = comp(oil12, oil36, comps=['Mass','RT'], tols=[0.05, 0.1])"
     ],
     "language": "python",
     "metadata": {},
     "outputs": [],
     "prompt_number": 5
    },
    {
     "cell_type": "code",
     "collapsed": false,
     "input": [
      "data2['diff'] = data2['Vol % df1']/data2['Vol % df2']"
     ],
     "language": "python",
     "metadata": {},
     "outputs": [],
     "prompt_number": 6
    },
    {
     "cell_type": "code",
     "collapsed": false,
     "input": [
      "diff = np.array(data2['diff'])-1\n",
      "zdiff_abs = np.abs(diff)\n",
      "zdiff_norm = zdiff_abs/zdiff_abs.max()\n",
      "zero_loc = -diff.min()/(diff.max()-diff.min())\n",
      "\n",
      "cdict = {'red':   [(0.0, 1.0, 1.0),\n",
      "                  (zero_loc, 1.0, 1.0),\n",
      "                  (1.0, 0.0, 0.0)],\n",
      "         'green': [(0.0, 0.0, 0.0),\n",
      "                  (zero_loc, 1.0, 1.0),\n",
      "                  (1.0, 0.0, 0.0)],\n",
      "         'blue':  [(0.0, 0.0, 0.0),\n",
      "                  (zero_loc, 1.0, 1.0),\n",
      "                  (1.0, 1.0, 1.0)],\n",
      "         }\n",
      "cmap = plc.LinearSegmentedColormap('cmap', cdict, N=16000)\n",
      "\n",
      "colors = cmap(diff)\n",
      "colors[:,3] = zdiff_norm\n",
      "\n",
      "plt.figure()\n",
      "plt.scatter(data2['HC ratio df1'], data2['OC ratio df1'], c=colors, s=100*zdiff_abs, linewidth=0.0)\n",
      "\n",
      "mappable = plt.cm.ScalarMappable(cmap=cmap)\n",
      "mappable.set_array(diff)\n",
      "plt.colorbar(mappable)\n",
      "plt.show()"
     ],
     "language": "python",
     "metadata": {},
     "outputs": [
      {
       "metadata": {},
       "output_type": "display_data",
       "png": "[encoded data removed]",
       "text": [
        "<matplotlib.figure.Figure at 0xa8fcd68>"
       ]
      }
     ],
     "prompt_number": 7
    },
    {
     "cell_type": "code",
     "collapsed": false,
     "input": [],
     "language": "python",
     "metadata": {},
     "outputs": []
    }
   ],
   "metadata": {}
  }
 ]
}